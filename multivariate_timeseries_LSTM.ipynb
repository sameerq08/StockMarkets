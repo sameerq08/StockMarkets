{
 "cells": [
  {
   "cell_type": "code",
   "execution_count": 1,
   "id": "f8eb68b7",
   "metadata": {},
   "outputs": [],
   "source": [
    "import numpy as np\n",
    "from tensorflow.keras.models import Sequential\n",
    "from tensorflow.keras.layers import LSTM\n",
    "from tensorflow.keras.layers import Dense, Dropout\n",
    "import pandas as pd\n",
    "from matplotlib import pyplot as plt\n",
    "from sklearn.preprocessing import StandardScaler\n",
    "import seaborn as sns\n",
    "from datetime import datetime"
   ]
  },
  {
   "cell_type": "code",
   "execution_count": 2,
   "id": "33c1ef68",
   "metadata": {},
   "outputs": [],
   "source": [
    "df = pd.read_csv('GOOG-year.csv')"
   ]
  },
  {
   "cell_type": "code",
   "execution_count": 3,
   "id": "1d79b006",
   "metadata": {},
   "outputs": [
    {
     "data": {
      "text/html": [
       "<div>\n",
       "<style scoped>\n",
       "    .dataframe tbody tr th:only-of-type {\n",
       "        vertical-align: middle;\n",
       "    }\n",
       "\n",
       "    .dataframe tbody tr th {\n",
       "        vertical-align: top;\n",
       "    }\n",
       "\n",
       "    .dataframe thead th {\n",
       "        text-align: right;\n",
       "    }\n",
       "</style>\n",
       "<table border=\"1\" class=\"dataframe\">\n",
       "  <thead>\n",
       "    <tr style=\"text-align: right;\">\n",
       "      <th></th>\n",
       "      <th>Date</th>\n",
       "      <th>Open</th>\n",
       "      <th>High</th>\n",
       "      <th>Low</th>\n",
       "      <th>Close</th>\n",
       "      <th>Adj Close</th>\n",
       "      <th>Volume</th>\n",
       "    </tr>\n",
       "  </thead>\n",
       "  <tbody>\n",
       "    <tr>\n",
       "      <th>0</th>\n",
       "      <td>2016-11-02</td>\n",
       "      <td>778.200012</td>\n",
       "      <td>781.650024</td>\n",
       "      <td>763.450012</td>\n",
       "      <td>768.700012</td>\n",
       "      <td>768.700012</td>\n",
       "      <td>1872400</td>\n",
       "    </tr>\n",
       "    <tr>\n",
       "      <th>1</th>\n",
       "      <td>2016-11-03</td>\n",
       "      <td>767.250000</td>\n",
       "      <td>769.950012</td>\n",
       "      <td>759.030029</td>\n",
       "      <td>762.130005</td>\n",
       "      <td>762.130005</td>\n",
       "      <td>1943200</td>\n",
       "    </tr>\n",
       "    <tr>\n",
       "      <th>2</th>\n",
       "      <td>2016-11-04</td>\n",
       "      <td>750.659973</td>\n",
       "      <td>770.359985</td>\n",
       "      <td>750.560974</td>\n",
       "      <td>762.020020</td>\n",
       "      <td>762.020020</td>\n",
       "      <td>2134800</td>\n",
       "    </tr>\n",
       "    <tr>\n",
       "      <th>3</th>\n",
       "      <td>2016-11-07</td>\n",
       "      <td>774.500000</td>\n",
       "      <td>785.190002</td>\n",
       "      <td>772.549988</td>\n",
       "      <td>782.520020</td>\n",
       "      <td>782.520020</td>\n",
       "      <td>1585100</td>\n",
       "    </tr>\n",
       "    <tr>\n",
       "      <th>4</th>\n",
       "      <td>2016-11-08</td>\n",
       "      <td>783.400024</td>\n",
       "      <td>795.632996</td>\n",
       "      <td>780.190002</td>\n",
       "      <td>790.510010</td>\n",
       "      <td>790.510010</td>\n",
       "      <td>1350800</td>\n",
       "    </tr>\n",
       "    <tr>\n",
       "      <th>...</th>\n",
       "      <td>...</td>\n",
       "      <td>...</td>\n",
       "      <td>...</td>\n",
       "      <td>...</td>\n",
       "      <td>...</td>\n",
       "      <td>...</td>\n",
       "      <td>...</td>\n",
       "    </tr>\n",
       "    <tr>\n",
       "      <th>247</th>\n",
       "      <td>2017-10-26</td>\n",
       "      <td>980.000000</td>\n",
       "      <td>987.599976</td>\n",
       "      <td>972.200012</td>\n",
       "      <td>972.559998</td>\n",
       "      <td>972.559998</td>\n",
       "      <td>2042100</td>\n",
       "    </tr>\n",
       "    <tr>\n",
       "      <th>248</th>\n",
       "      <td>2017-10-27</td>\n",
       "      <td>1009.190002</td>\n",
       "      <td>1048.390015</td>\n",
       "      <td>1008.200012</td>\n",
       "      <td>1019.270020</td>\n",
       "      <td>1019.270020</td>\n",
       "      <td>5167700</td>\n",
       "    </tr>\n",
       "    <tr>\n",
       "      <th>249</th>\n",
       "      <td>2017-10-30</td>\n",
       "      <td>1014.000000</td>\n",
       "      <td>1024.969971</td>\n",
       "      <td>1007.500000</td>\n",
       "      <td>1017.109985</td>\n",
       "      <td>1017.109985</td>\n",
       "      <td>2085100</td>\n",
       "    </tr>\n",
       "    <tr>\n",
       "      <th>250</th>\n",
       "      <td>2017-10-31</td>\n",
       "      <td>1015.219971</td>\n",
       "      <td>1024.000000</td>\n",
       "      <td>1010.419983</td>\n",
       "      <td>1016.640015</td>\n",
       "      <td>1016.640015</td>\n",
       "      <td>1330700</td>\n",
       "    </tr>\n",
       "    <tr>\n",
       "      <th>251</th>\n",
       "      <td>2017-11-01</td>\n",
       "      <td>1017.210022</td>\n",
       "      <td>1029.670044</td>\n",
       "      <td>1016.950012</td>\n",
       "      <td>1025.500000</td>\n",
       "      <td>1025.500000</td>\n",
       "      <td>1373444</td>\n",
       "    </tr>\n",
       "  </tbody>\n",
       "</table>\n",
       "<p>252 rows × 7 columns</p>\n",
       "</div>"
      ],
      "text/plain": [
       "           Date         Open         High          Low        Close  \\\n",
       "0    2016-11-02   778.200012   781.650024   763.450012   768.700012   \n",
       "1    2016-11-03   767.250000   769.950012   759.030029   762.130005   \n",
       "2    2016-11-04   750.659973   770.359985   750.560974   762.020020   \n",
       "3    2016-11-07   774.500000   785.190002   772.549988   782.520020   \n",
       "4    2016-11-08   783.400024   795.632996   780.190002   790.510010   \n",
       "..          ...          ...          ...          ...          ...   \n",
       "247  2017-10-26   980.000000   987.599976   972.200012   972.559998   \n",
       "248  2017-10-27  1009.190002  1048.390015  1008.200012  1019.270020   \n",
       "249  2017-10-30  1014.000000  1024.969971  1007.500000  1017.109985   \n",
       "250  2017-10-31  1015.219971  1024.000000  1010.419983  1016.640015   \n",
       "251  2017-11-01  1017.210022  1029.670044  1016.950012  1025.500000   \n",
       "\n",
       "       Adj Close   Volume  \n",
       "0     768.700012  1872400  \n",
       "1     762.130005  1943200  \n",
       "2     762.020020  2134800  \n",
       "3     782.520020  1585100  \n",
       "4     790.510010  1350800  \n",
       "..           ...      ...  \n",
       "247   972.559998  2042100  \n",
       "248  1019.270020  5167700  \n",
       "249  1017.109985  2085100  \n",
       "250  1016.640015  1330700  \n",
       "251  1025.500000  1373444  \n",
       "\n",
       "[252 rows x 7 columns]"
      ]
     },
     "execution_count": 3,
     "metadata": {},
     "output_type": "execute_result"
    }
   ],
   "source": [
    "df"
   ]
  },
  {
   "cell_type": "code",
   "execution_count": 76,
   "id": "5f04b19a",
   "metadata": {},
   "outputs": [
    {
     "name": "stdout",
     "output_type": "stream",
     "text": [
      "<class 'pandas.core.frame.DataFrame'>\n",
      "RangeIndex: 252 entries, 0 to 251\n",
      "Data columns (total 7 columns):\n",
      " #   Column     Non-Null Count  Dtype  \n",
      "---  ------     --------------  -----  \n",
      " 0   Date       252 non-null    object \n",
      " 1   Open       252 non-null    float64\n",
      " 2   High       252 non-null    float64\n",
      " 3   Low        252 non-null    float64\n",
      " 4   Close      252 non-null    float64\n",
      " 5   Adj Close  252 non-null    float64\n",
      " 6   Volume     252 non-null    int64  \n",
      "dtypes: float64(5), int64(1), object(1)\n",
      "memory usage: 13.9+ KB\n"
     ]
    }
   ],
   "source": [
    "df.info()"
   ]
  },
  {
   "cell_type": "code",
   "execution_count": 4,
   "id": "7453bc18",
   "metadata": {},
   "outputs": [],
   "source": [
    "train_dates = pd.to_datetime(df['Date'])"
   ]
  },
  {
   "cell_type": "code",
   "execution_count": 5,
   "id": "0cfe4224",
   "metadata": {},
   "outputs": [
    {
     "name": "stdout",
     "output_type": "stream",
     "text": [
      "237   2017-10-12\n",
      "238   2017-10-13\n",
      "239   2017-10-16\n",
      "240   2017-10-17\n",
      "241   2017-10-18\n",
      "242   2017-10-19\n",
      "243   2017-10-20\n",
      "244   2017-10-23\n",
      "245   2017-10-24\n",
      "246   2017-10-25\n",
      "247   2017-10-26\n",
      "248   2017-10-27\n",
      "249   2017-10-30\n",
      "250   2017-10-31\n",
      "251   2017-11-01\n",
      "Name: Date, dtype: datetime64[ns]\n"
     ]
    }
   ],
   "source": [
    "print(train_dates.tail(15)) #Check last few dates. "
   ]
  },
  {
   "cell_type": "code",
   "execution_count": 6,
   "id": "e07be713",
   "metadata": {},
   "outputs": [],
   "source": [
    "cols = list(df)[1:6]"
   ]
  },
  {
   "cell_type": "code",
   "execution_count": 7,
   "id": "5a112b6c",
   "metadata": {},
   "outputs": [
    {
     "data": {
      "text/plain": [
       "['Open', 'High', 'Low', 'Close', 'Adj Close']"
      ]
     },
     "execution_count": 7,
     "metadata": {},
     "output_type": "execute_result"
    }
   ],
   "source": [
    "cols"
   ]
  },
  {
   "cell_type": "code",
   "execution_count": 8,
   "id": "510c4702",
   "metadata": {},
   "outputs": [],
   "source": [
    "df_for_training = df[cols].astype(float)"
   ]
  },
  {
   "cell_type": "code",
   "execution_count": 55,
   "id": "519ebf86",
   "metadata": {},
   "outputs": [
    {
     "data": {
      "text/html": [
       "<div>\n",
       "<style scoped>\n",
       "    .dataframe tbody tr th:only-of-type {\n",
       "        vertical-align: middle;\n",
       "    }\n",
       "\n",
       "    .dataframe tbody tr th {\n",
       "        vertical-align: top;\n",
       "    }\n",
       "\n",
       "    .dataframe thead th {\n",
       "        text-align: right;\n",
       "    }\n",
       "</style>\n",
       "<table border=\"1\" class=\"dataframe\">\n",
       "  <thead>\n",
       "    <tr style=\"text-align: right;\">\n",
       "      <th></th>\n",
       "      <th>Open</th>\n",
       "      <th>High</th>\n",
       "      <th>Low</th>\n",
       "      <th>Close</th>\n",
       "      <th>Adj Close</th>\n",
       "    </tr>\n",
       "  </thead>\n",
       "  <tbody>\n",
       "    <tr>\n",
       "      <th>222</th>\n",
       "      <td>933.000000</td>\n",
       "      <td>936.530029</td>\n",
       "      <td>923.830017</td>\n",
       "      <td>932.450012</td>\n",
       "      <td>932.450012</td>\n",
       "    </tr>\n",
       "    <tr>\n",
       "      <th>223</th>\n",
       "      <td>927.750000</td>\n",
       "      <td>934.729980</td>\n",
       "      <td>926.479980</td>\n",
       "      <td>928.530029</td>\n",
       "      <td>928.530029</td>\n",
       "    </tr>\n",
       "    <tr>\n",
       "      <th>224</th>\n",
       "      <td>925.450012</td>\n",
       "      <td>926.400024</td>\n",
       "      <td>909.700012</td>\n",
       "      <td>920.969971</td>\n",
       "      <td>920.969971</td>\n",
       "    </tr>\n",
       "    <tr>\n",
       "      <th>225</th>\n",
       "      <td>923.719971</td>\n",
       "      <td>930.820007</td>\n",
       "      <td>921.140015</td>\n",
       "      <td>924.859985</td>\n",
       "      <td>924.859985</td>\n",
       "    </tr>\n",
       "    <tr>\n",
       "      <th>226</th>\n",
       "      <td>927.739990</td>\n",
       "      <td>949.900024</td>\n",
       "      <td>927.739990</td>\n",
       "      <td>944.489990</td>\n",
       "      <td>944.489990</td>\n",
       "    </tr>\n",
       "    <tr>\n",
       "      <th>227</th>\n",
       "      <td>941.359985</td>\n",
       "      <td>950.690002</td>\n",
       "      <td>940.549988</td>\n",
       "      <td>949.500000</td>\n",
       "      <td>949.500000</td>\n",
       "    </tr>\n",
       "    <tr>\n",
       "      <th>228</th>\n",
       "      <td>952.000000</td>\n",
       "      <td>959.786011</td>\n",
       "      <td>951.510010</td>\n",
       "      <td>959.109985</td>\n",
       "      <td>959.109985</td>\n",
       "    </tr>\n",
       "    <tr>\n",
       "      <th>229</th>\n",
       "      <td>959.979980</td>\n",
       "      <td>962.539978</td>\n",
       "      <td>947.840027</td>\n",
       "      <td>953.270020</td>\n",
       "      <td>953.270020</td>\n",
       "    </tr>\n",
       "    <tr>\n",
       "      <th>230</th>\n",
       "      <td>954.000000</td>\n",
       "      <td>958.000000</td>\n",
       "      <td>949.140015</td>\n",
       "      <td>957.789978</td>\n",
       "      <td>957.789978</td>\n",
       "    </tr>\n",
       "    <tr>\n",
       "      <th>231</th>\n",
       "      <td>957.000000</td>\n",
       "      <td>960.390015</td>\n",
       "      <td>950.690002</td>\n",
       "      <td>951.679993</td>\n",
       "      <td>951.679993</td>\n",
       "    </tr>\n",
       "    <tr>\n",
       "      <th>232</th>\n",
       "      <td>955.489990</td>\n",
       "      <td>970.909973</td>\n",
       "      <td>955.179993</td>\n",
       "      <td>969.960022</td>\n",
       "      <td>969.960022</td>\n",
       "    </tr>\n",
       "    <tr>\n",
       "      <th>233</th>\n",
       "      <td>966.700012</td>\n",
       "      <td>979.460022</td>\n",
       "      <td>963.359985</td>\n",
       "      <td>978.890015</td>\n",
       "      <td>978.890015</td>\n",
       "    </tr>\n",
       "    <tr>\n",
       "      <th>234</th>\n",
       "      <td>980.000000</td>\n",
       "      <td>985.424988</td>\n",
       "      <td>976.109985</td>\n",
       "      <td>977.000000</td>\n",
       "      <td>977.000000</td>\n",
       "    </tr>\n",
       "    <tr>\n",
       "      <th>235</th>\n",
       "      <td>980.000000</td>\n",
       "      <td>981.570007</td>\n",
       "      <td>966.080017</td>\n",
       "      <td>972.599976</td>\n",
       "      <td>972.599976</td>\n",
       "    </tr>\n",
       "    <tr>\n",
       "      <th>236</th>\n",
       "      <td>973.719971</td>\n",
       "      <td>990.710022</td>\n",
       "      <td>972.250000</td>\n",
       "      <td>989.250000</td>\n",
       "      <td>989.250000</td>\n",
       "    </tr>\n",
       "    <tr>\n",
       "      <th>237</th>\n",
       "      <td>987.450012</td>\n",
       "      <td>994.119995</td>\n",
       "      <td>985.000000</td>\n",
       "      <td>987.830017</td>\n",
       "      <td>987.830017</td>\n",
       "    </tr>\n",
       "    <tr>\n",
       "      <th>238</th>\n",
       "      <td>992.000000</td>\n",
       "      <td>997.210022</td>\n",
       "      <td>989.000000</td>\n",
       "      <td>989.679993</td>\n",
       "      <td>989.679993</td>\n",
       "    </tr>\n",
       "    <tr>\n",
       "      <th>239</th>\n",
       "      <td>992.099976</td>\n",
       "      <td>993.906982</td>\n",
       "      <td>984.000000</td>\n",
       "      <td>992.000000</td>\n",
       "      <td>992.000000</td>\n",
       "    </tr>\n",
       "    <tr>\n",
       "      <th>240</th>\n",
       "      <td>990.289978</td>\n",
       "      <td>996.440002</td>\n",
       "      <td>988.590027</td>\n",
       "      <td>992.179993</td>\n",
       "      <td>992.179993</td>\n",
       "    </tr>\n",
       "    <tr>\n",
       "      <th>241</th>\n",
       "      <td>991.770020</td>\n",
       "      <td>996.719971</td>\n",
       "      <td>986.974976</td>\n",
       "      <td>992.809998</td>\n",
       "      <td>992.809998</td>\n",
       "    </tr>\n",
       "    <tr>\n",
       "      <th>242</th>\n",
       "      <td>986.000000</td>\n",
       "      <td>988.880005</td>\n",
       "      <td>978.390015</td>\n",
       "      <td>984.450012</td>\n",
       "      <td>984.450012</td>\n",
       "    </tr>\n",
       "    <tr>\n",
       "      <th>243</th>\n",
       "      <td>989.440002</td>\n",
       "      <td>991.000000</td>\n",
       "      <td>984.580017</td>\n",
       "      <td>988.200012</td>\n",
       "      <td>988.200012</td>\n",
       "    </tr>\n",
       "    <tr>\n",
       "      <th>244</th>\n",
       "      <td>989.520020</td>\n",
       "      <td>989.520020</td>\n",
       "      <td>966.119995</td>\n",
       "      <td>968.450012</td>\n",
       "      <td>968.450012</td>\n",
       "    </tr>\n",
       "    <tr>\n",
       "      <th>245</th>\n",
       "      <td>970.000000</td>\n",
       "      <td>972.229980</td>\n",
       "      <td>961.000000</td>\n",
       "      <td>970.539978</td>\n",
       "      <td>970.539978</td>\n",
       "    </tr>\n",
       "    <tr>\n",
       "      <th>246</th>\n",
       "      <td>968.369995</td>\n",
       "      <td>976.090027</td>\n",
       "      <td>960.520020</td>\n",
       "      <td>973.330017</td>\n",
       "      <td>973.330017</td>\n",
       "    </tr>\n",
       "    <tr>\n",
       "      <th>247</th>\n",
       "      <td>980.000000</td>\n",
       "      <td>987.599976</td>\n",
       "      <td>972.200012</td>\n",
       "      <td>972.559998</td>\n",
       "      <td>972.559998</td>\n",
       "    </tr>\n",
       "    <tr>\n",
       "      <th>248</th>\n",
       "      <td>1009.190002</td>\n",
       "      <td>1048.390015</td>\n",
       "      <td>1008.200012</td>\n",
       "      <td>1019.270020</td>\n",
       "      <td>1019.270020</td>\n",
       "    </tr>\n",
       "    <tr>\n",
       "      <th>249</th>\n",
       "      <td>1014.000000</td>\n",
       "      <td>1024.969971</td>\n",
       "      <td>1007.500000</td>\n",
       "      <td>1017.109985</td>\n",
       "      <td>1017.109985</td>\n",
       "    </tr>\n",
       "    <tr>\n",
       "      <th>250</th>\n",
       "      <td>1015.219971</td>\n",
       "      <td>1024.000000</td>\n",
       "      <td>1010.419983</td>\n",
       "      <td>1016.640015</td>\n",
       "      <td>1016.640015</td>\n",
       "    </tr>\n",
       "    <tr>\n",
       "      <th>251</th>\n",
       "      <td>1017.210022</td>\n",
       "      <td>1029.670044</td>\n",
       "      <td>1016.950012</td>\n",
       "      <td>1025.500000</td>\n",
       "      <td>1025.500000</td>\n",
       "    </tr>\n",
       "  </tbody>\n",
       "</table>\n",
       "</div>"
      ],
      "text/plain": [
       "            Open         High          Low        Close    Adj Close\n",
       "222   933.000000   936.530029   923.830017   932.450012   932.450012\n",
       "223   927.750000   934.729980   926.479980   928.530029   928.530029\n",
       "224   925.450012   926.400024   909.700012   920.969971   920.969971\n",
       "225   923.719971   930.820007   921.140015   924.859985   924.859985\n",
       "226   927.739990   949.900024   927.739990   944.489990   944.489990\n",
       "227   941.359985   950.690002   940.549988   949.500000   949.500000\n",
       "228   952.000000   959.786011   951.510010   959.109985   959.109985\n",
       "229   959.979980   962.539978   947.840027   953.270020   953.270020\n",
       "230   954.000000   958.000000   949.140015   957.789978   957.789978\n",
       "231   957.000000   960.390015   950.690002   951.679993   951.679993\n",
       "232   955.489990   970.909973   955.179993   969.960022   969.960022\n",
       "233   966.700012   979.460022   963.359985   978.890015   978.890015\n",
       "234   980.000000   985.424988   976.109985   977.000000   977.000000\n",
       "235   980.000000   981.570007   966.080017   972.599976   972.599976\n",
       "236   973.719971   990.710022   972.250000   989.250000   989.250000\n",
       "237   987.450012   994.119995   985.000000   987.830017   987.830017\n",
       "238   992.000000   997.210022   989.000000   989.679993   989.679993\n",
       "239   992.099976   993.906982   984.000000   992.000000   992.000000\n",
       "240   990.289978   996.440002   988.590027   992.179993   992.179993\n",
       "241   991.770020   996.719971   986.974976   992.809998   992.809998\n",
       "242   986.000000   988.880005   978.390015   984.450012   984.450012\n",
       "243   989.440002   991.000000   984.580017   988.200012   988.200012\n",
       "244   989.520020   989.520020   966.119995   968.450012   968.450012\n",
       "245   970.000000   972.229980   961.000000   970.539978   970.539978\n",
       "246   968.369995   976.090027   960.520020   973.330017   973.330017\n",
       "247   980.000000   987.599976   972.200012   972.559998   972.559998\n",
       "248  1009.190002  1048.390015  1008.200012  1019.270020  1019.270020\n",
       "249  1014.000000  1024.969971  1007.500000  1017.109985  1017.109985\n",
       "250  1015.219971  1024.000000  1010.419983  1016.640015  1016.640015\n",
       "251  1017.210022  1029.670044  1016.950012  1025.500000  1025.500000"
      ]
     },
     "execution_count": 55,
     "metadata": {},
     "output_type": "execute_result"
    }
   ],
   "source": [
    "df_for_training.tail(30)"
   ]
  },
  {
   "cell_type": "code",
   "execution_count": 77,
   "id": "7e033407",
   "metadata": {},
   "outputs": [
    {
     "data": {
      "text/plain": [
       "5"
      ]
     },
     "execution_count": 77,
     "metadata": {},
     "output_type": "execute_result"
    }
   ],
   "source": [
    "df_for_training.shape[1]"
   ]
  },
  {
   "cell_type": "code",
   "execution_count": 10,
   "id": "151b72fd",
   "metadata": {},
   "outputs": [],
   "source": [
    "scaler = StandardScaler()\n",
    "scaler = scaler.fit(df_for_training)\n",
    "df_for_training_scaled = scaler.transform(df_for_training)"
   ]
  },
  {
   "cell_type": "code",
   "execution_count": 28,
   "id": "f5901c0b",
   "metadata": {},
   "outputs": [],
   "source": [
    "trainX = []\n",
    "trainY = []\n",
    "\n",
    "n_future = 7   # Number of days we want to look into the future based on the past days.\n",
    "n_past = 90  # Number of past days we want to use to predict the future."
   ]
  },
  {
   "cell_type": "code",
   "execution_count": 29,
   "id": "3d8d8a8b",
   "metadata": {},
   "outputs": [],
   "source": [
    "#Reformat input data into a shape: (n_samples x timesteps x n_features)\n",
    "#In my example, my df_for_training_scaled has a shape (12823, 5)\n",
    "#12823 refers to the number of data points and 5 refers to the columns (multi-variables).\n",
    "for i in range(n_past, len(df_for_training_scaled) - n_future +1):\n",
    "    trainX.append(df_for_training_scaled[i - n_past:i, 0:df_for_training.shape[1]])\n",
    "    trainY.append(df_for_training_scaled[i + n_future - 1:i + n_future, 0])\n",
    "    "
   ]
  },
  {
   "cell_type": "code",
   "execution_count": 30,
   "id": "cb9fab9d",
   "metadata": {},
   "outputs": [
    {
     "name": "stdout",
     "output_type": "stream",
     "text": [
      "trainX shape == (156, 90, 5).\n",
      "trainY shape == (156, 1).\n"
     ]
    }
   ],
   "source": [
    "trainX, trainY = np.array(trainX), np.array(trainY)\n",
    "\n",
    "print('trainX shape == {}.'.format(trainX.shape))\n",
    "print('trainY shape == {}.'.format(trainY.shape))"
   ]
  },
  {
   "cell_type": "code",
   "execution_count": 31,
   "id": "590c4e25",
   "metadata": {},
   "outputs": [
    {
     "data": {
      "text/plain": [
       "array([[-0.78231578],\n",
       "       [-0.79470476],\n",
       "       [-0.97152028],\n",
       "       [-0.7902614 ],\n",
       "       [-0.72844969]])"
      ]
     },
     "execution_count": 31,
     "metadata": {},
     "output_type": "execute_result"
    }
   ],
   "source": [
    "trainY[:5]"
   ]
  },
  {
   "cell_type": "code",
   "execution_count": 32,
   "id": "35ad5817",
   "metadata": {},
   "outputs": [],
   "source": [
    "#In my case, trainX has a shape (12809, 14, 5). \n",
    "#12809 because we are looking back 14 days (12823 - 14 = 12809). \n",
    "#Remember that we cannot look back 14 days until we get to the 15th day. \n",
    "#Also, trainY has a shape (12809, 1). Our model only predicts a single value, but \n",
    "#it needs multiple variables (5 in my example) to make this prediction. \n",
    "#This is why we can only predict a single day after our training, the day after where our data ends.\n",
    "#To predict more days in future, we need all the 5 variables which we do not have. \n",
    "#We need to predict all variables if we want to do that. "
   ]
  },
  {
   "cell_type": "code",
   "execution_count": 33,
   "id": "0522fbea",
   "metadata": {},
   "outputs": [
    {
     "name": "stdout",
     "output_type": "stream",
     "text": [
      "Model: \"sequential_2\"\n",
      "_________________________________________________________________\n",
      "Layer (type)                 Output Shape              Param #   \n",
      "=================================================================\n",
      "lstm_2 (LSTM)                (None, 90, 64)            17920     \n",
      "_________________________________________________________________\n",
      "lstm_3 (LSTM)                (None, 32)                12416     \n",
      "_________________________________________________________________\n",
      "dropout_1 (Dropout)          (None, 32)                0         \n",
      "_________________________________________________________________\n",
      "dense_1 (Dense)              (None, 1)                 33        \n",
      "=================================================================\n",
      "Total params: 30,369\n",
      "Trainable params: 30,369\n",
      "Non-trainable params: 0\n",
      "_________________________________________________________________\n"
     ]
    }
   ],
   "source": [
    "model = Sequential()\n",
    "model.add(LSTM(64, activation='relu', input_shape=(trainX.shape[1], trainX.shape[2]), return_sequences=True))\n",
    "model.add(LSTM(32, activation='relu', return_sequences=False))\n",
    "model.add(Dropout(0.2))\n",
    "model.add(Dense(trainY.shape[1]))\n",
    "\n",
    "model.compile(optimizer='adam', loss='mse')\n",
    "model.summary()"
   ]
  },
  {
   "cell_type": "code",
   "execution_count": 34,
   "id": "61a7562a",
   "metadata": {},
   "outputs": [
    {
     "name": "stdout",
     "output_type": "stream",
     "text": [
      "Epoch 1/5\n",
      "9/9 [==============================] - 3s 114ms/step - loss: 0.4179 - val_loss: 0.1982\n",
      "Epoch 2/5\n",
      "9/9 [==============================] - 0s 44ms/step - loss: 0.2517 - val_loss: 0.5547\n",
      "Epoch 3/5\n",
      "9/9 [==============================] - 0s 44ms/step - loss: 15294.1748 - val_loss: 0.5610\n",
      "Epoch 4/5\n",
      "9/9 [==============================] - 0s 46ms/step - loss: 1794966.1250 - val_loss: 0.6626\n",
      "Epoch 5/5\n",
      "9/9 [==============================] - 0s 45ms/step - loss: 236490176.0000 - val_loss: 0.8375\n"
     ]
    }
   ],
   "source": [
    "history = model.fit(trainX, trainY, epochs=5, batch_size=16, validation_split=0.1, verbose=1)"
   ]
  },
  {
   "cell_type": "code",
   "execution_count": 35,
   "id": "dbfaae78",
   "metadata": {},
   "outputs": [
    {
     "data": {
      "text/plain": [
       "<matplotlib.legend.Legend at 0x1b3e6812a00>"
      ]
     },
     "execution_count": 35,
     "metadata": {},
     "output_type": "execute_result"
    },
    {
     "data": {
      "image/png": "[encoded data removed]",
      "text/plain": [
       "<Figure size 432x288 with 1 Axes>"
      ]
     },
     "metadata": {
      "needs_background": "light"
     },
     "output_type": "display_data"
    }
   ],
   "source": [
    "plt.plot(history.history['loss'], label='Training loss')\n",
    "plt.plot(history.history['val_loss'], label='Validation loss')\n",
    "plt.legend()"
   ]
  },
  {
   "cell_type": "code",
   "execution_count": 64,
   "id": "5a67b7f8",
   "metadata": {},
   "outputs": [],
   "source": [
    "#Predicting...\n",
    "#Libraries that will help us extract only business days in the US.\n",
    "#Otherwise our dates would be wrong when we look back (or forward).  \n",
    "from pandas.tseries.holiday import USFederalHolidayCalendar\n",
    "from pandas.tseries.offsets import CustomBusinessDay\n",
    "us_bd = CustomBusinessDay(calendar=USFederalHolidayCalendar())\n",
    "#Remember that we can only predict one day in future as our model needs 5 variables\n",
    "#as inputs for prediction. We only have all 5 variables until the last day in our dataset.\n",
    "n_past = 1\n",
    "n_days_for_prediction=7  #let us predict past 15 days"
   ]
  },
  {
   "cell_type": "code",
   "execution_count": 65,
   "id": "19a8a3f4",
   "metadata": {},
   "outputs": [
    {
     "data": {
      "text/plain": [
       "[Timestamp('2017-11-01 00:00:00', freq='C'),\n",
       " Timestamp('2017-11-02 00:00:00', freq='C'),\n",
       " Timestamp('2017-11-03 00:00:00', freq='C'),\n",
       " Timestamp('2017-11-06 00:00:00', freq='C'),\n",
       " Timestamp('2017-11-07 00:00:00', freq='C'),\n",
       " Timestamp('2017-11-08 00:00:00', freq='C'),\n",
       " Timestamp('2017-11-09 00:00:00', freq='C')]"
      ]
     },
     "execution_count": 65,
     "metadata": {},
     "output_type": "execute_result"
    }
   ],
   "source": [
    "predict_period_dates = pd.date_range(list(train_dates)[-n_past], periods=n_days_for_prediction, freq=us_bd).tolist()\n",
    "predict_period_dates"
   ]
  },
  {
   "cell_type": "code",
   "execution_count": 66,
   "id": "33f83509",
   "metadata": {},
   "outputs": [],
   "source": [
    "#Make prediction\n",
    "prediction = model.predict(trainX[-n_days_for_prediction:]) #shape = (n, 1) where n is the n_days_for_prediction\n",
    "#prediction = model.predict(trainX[-7:])"
   ]
  },
  {
   "cell_type": "code",
   "execution_count": 67,
   "id": "c7d85414",
   "metadata": {},
   "outputs": [
    {
     "data": {
      "text/plain": [
       "array([[0.6693491 ],\n",
       "       [0.7052444 ],\n",
       "       [0.7391304 ],\n",
       "       [0.77048063],\n",
       "       [0.79438305],\n",
       "       [0.81510794],\n",
       "       [0.8257923 ]], dtype=float32)"
      ]
     },
     "execution_count": 67,
     "metadata": {},
     "output_type": "execute_result"
    }
   ],
   "source": [
    "prediction"
   ]
  },
  {
   "cell_type": "code",
   "execution_count": 68,
   "id": "41fef48b",
   "metadata": {},
   "outputs": [
    {
     "name": "stdout",
     "output_type": "stream",
     "text": [
      "[[0.6693491  0.6693491  0.6693491  0.6693491  0.6693491 ]\n",
      " [0.7052444  0.7052444  0.7052444  0.7052444  0.7052444 ]\n",
      " [0.7391304  0.7391304  0.7391304  0.7391304  0.7391304 ]\n",
      " [0.77048063 0.77048063 0.77048063 0.77048063 0.77048063]\n",
      " [0.79438305 0.79438305 0.79438305 0.79438305 0.79438305]\n",
      " [0.81510794 0.81510794 0.81510794 0.81510794 0.81510794]\n",
      " [0.8257923  0.8257923  0.8257923  0.8257923  0.8257923 ]]\n"
     ]
    }
   ],
   "source": [
    "#Perform inverse transformation to rescale back to original range\n",
    "#Since we used 5 variables for transform, the inverse expects same dimensions\n",
    "#Therefore, let us copy our values 5 times and discard them after inverse transform copy same value to next founr columns\n",
    "prediction_copies = np.repeat(prediction, df_for_training.shape[1], axis=-1)\n",
    "print(prediction_copies)\n"
   ]
  },
  {
   "cell_type": "code",
   "execution_count": 69,
   "id": "bba864ca",
   "metadata": {},
   "outputs": [
    {
     "name": "stdout",
     "output_type": "stream",
     "text": [
      "[928.79803 931.46356 933.97986 936.30786 938.0828  939.6218  940.4152 ]\n"
     ]
    }
   ],
   "source": [
    "y_pred_future = scaler.inverse_transform(prediction_copies)[:,0]\n",
    "print(y_pred_future)"
   ]
  },
  {
   "cell_type": "code",
   "execution_count": 70,
   "id": "4997b276",
   "metadata": {},
   "outputs": [],
   "source": [
    "# Convert timestamp to date\n",
    "forecast_dates = []\n",
    "for time_i in predict_period_dates:\n",
    "    forecast_dates.append(time_i.date()) \n"
   ]
  },
  {
   "cell_type": "code",
   "execution_count": 71,
   "id": "71a5d581",
   "metadata": {},
   "outputs": [
    {
     "data": {
      "text/plain": [
       "[datetime.date(2017, 11, 1),\n",
       " datetime.date(2017, 11, 2),\n",
       " datetime.date(2017, 11, 3),\n",
       " datetime.date(2017, 11, 6),\n",
       " datetime.date(2017, 11, 7),\n",
       " datetime.date(2017, 11, 8),\n",
       " datetime.date(2017, 11, 9)]"
      ]
     },
     "execution_count": 71,
     "metadata": {},
     "output_type": "execute_result"
    }
   ],
   "source": [
    "forecast_dates"
   ]
  },
  {
   "cell_type": "code",
   "execution_count": 72,
   "id": "868c100f",
   "metadata": {},
   "outputs": [],
   "source": [
    "df_forecast = pd.DataFrame({'Date':np.array(forecast_dates), 'Open':y_pred_future})\n",
    "df_forecast['Date']=pd.to_datetime(df_forecast['Date'])"
   ]
  },
  {
   "cell_type": "code",
   "execution_count": 73,
   "id": "24cdfce8",
   "metadata": {},
   "outputs": [
    {
     "data": {
      "text/html": [
       "<div>\n",
       "<style scoped>\n",
       "    .dataframe tbody tr th:only-of-type {\n",
       "        vertical-align: middle;\n",
       "    }\n",
       "\n",
       "    .dataframe tbody tr th {\n",
       "        vertical-align: top;\n",
       "    }\n",
       "\n",
       "    .dataframe thead th {\n",
       "        text-align: right;\n",
       "    }\n",
       "</style>\n",
       "<table border=\"1\" class=\"dataframe\">\n",
       "  <thead>\n",
       "    <tr style=\"text-align: right;\">\n",
       "      <th></th>\n",
       "      <th>Date</th>\n",
       "      <th>Open</th>\n",
       "    </tr>\n",
       "  </thead>\n",
       "  <tbody>\n",
       "    <tr>\n",
       "      <th>0</th>\n",
       "      <td>2017-11-01</td>\n",
       "      <td>928.798035</td>\n",
       "    </tr>\n",
       "    <tr>\n",
       "      <th>1</th>\n",
       "      <td>2017-11-02</td>\n",
       "      <td>931.463562</td>\n",
       "    </tr>\n",
       "    <tr>\n",
       "      <th>2</th>\n",
       "      <td>2017-11-03</td>\n",
       "      <td>933.979858</td>\n",
       "    </tr>\n",
       "    <tr>\n",
       "      <th>3</th>\n",
       "      <td>2017-11-06</td>\n",
       "      <td>936.307861</td>\n",
       "    </tr>\n",
       "    <tr>\n",
       "      <th>4</th>\n",
       "      <td>2017-11-07</td>\n",
       "      <td>938.082825</td>\n",
       "    </tr>\n",
       "    <tr>\n",
       "      <th>5</th>\n",
       "      <td>2017-11-08</td>\n",
       "      <td>939.621826</td>\n",
       "    </tr>\n",
       "    <tr>\n",
       "      <th>6</th>\n",
       "      <td>2017-11-09</td>\n",
       "      <td>940.415222</td>\n",
       "    </tr>\n",
       "  </tbody>\n",
       "</table>\n",
       "</div>"
      ],
      "text/plain": [
       "        Date        Open\n",
       "0 2017-11-01  928.798035\n",
       "1 2017-11-02  931.463562\n",
       "2 2017-11-03  933.979858\n",
       "3 2017-11-06  936.307861\n",
       "4 2017-11-07  938.082825\n",
       "5 2017-11-08  939.621826\n",
       "6 2017-11-09  940.415222"
      ]
     },
     "execution_count": 73,
     "metadata": {},
     "output_type": "execute_result"
    }
   ],
   "source": [
    "df_forecast"
   ]
  },
  {
   "cell_type": "code",
   "execution_count": 74,
   "id": "a5ea88f5",
   "metadata": {},
   "outputs": [
    {
     "name": "stderr",
     "output_type": "stream",
     "text": [
      "C:\\Users\\zi1154\\AppData\\Local\\Temp/ipykernel_13240/2860349802.py:2: SettingWithCopyWarning: \n",
      "A value is trying to be set on a copy of a slice from a DataFrame.\n",
      "Try using .loc[row_indexer,col_indexer] = value instead\n",
      "\n",
      "See the caveats in the documentation: https://pandas.pydata.org/pandas-docs/stable/user_guide/indexing.html#returning-a-view-versus-a-copy\n",
      "  original['Date']=pd.to_datetime(original['Date'])\n",
      "C:\\Users\\zi1154\\AppData\\Local\\Packages\\PythonSoftwareFoundation.Python.3.9_qbz5n2kfra8p0\\LocalCache\\local-packages\\Python39\\site-packages\\seaborn\\_decorators.py:36: FutureWarning: Pass the following variables as keyword args: x, y. From version 0.12, the only valid positional argument will be `data`, and passing other arguments without an explicit keyword will result in an error or misinterpretation.\n",
      "  warnings.warn(\n",
      "C:\\Users\\zi1154\\AppData\\Local\\Packages\\PythonSoftwareFoundation.Python.3.9_qbz5n2kfra8p0\\LocalCache\\local-packages\\Python39\\site-packages\\seaborn\\_decorators.py:36: FutureWarning: Pass the following variables as keyword args: x, y. From version 0.12, the only valid positional argument will be `data`, and passing other arguments without an explicit keyword will result in an error or misinterpretation.\n",
      "  warnings.warn(\n"
     ]
    },
    {
     "data": {
      "text/plain": [
       "<AxesSubplot:xlabel='Date', ylabel='Open'>"
      ]
     },
     "execution_count": 74,
     "metadata": {},
     "output_type": "execute_result"
    },
    {
     "data": {
      "image/png": "[encoded data removed]",
      "text/plain": [
       "<Figure size 432x288 with 1 Axes>"
      ]
     },
     "metadata": {
      "needs_background": "light"
     },
     "output_type": "display_data"
    }
   ],
   "source": [
    "original = df[['Date', 'Open']]\n",
    "original['Date']=pd.to_datetime(original['Date'])\n",
    "original = original.loc[original['Date'] >= '2017-10-30']\n",
    "\n",
    "sns.lineplot(original['Date'], original['Open'])\n",
    "sns.lineplot(df_forecast['Date'], df_forecast['Open'])\n"
   ]
  },
  {
   "cell_type": "code",
   "execution_count": null,
   "id": "3712108f",
   "metadata": {},
   "outputs": [],
   "source": []
  }
 ],
 "metadata": {
  "kernelspec": {
   "display_name": "Python 3 (ipykernel)",
   "language": "python",
   "name": "python3"
  },
  "language_info": {
   "codemirror_mode": {
    "name": "ipython",
    "version": 3
   },
   "file_extension": ".py",
   "mimetype": "text/x-python",
   "name": "python",
   "nbconvert_exporter": "python",
   "pygments_lexer": "ipython3",
   "version": "3.9.9"
  }
 },
 "nbformat": 4,
 "nbformat_minor": 5
}
