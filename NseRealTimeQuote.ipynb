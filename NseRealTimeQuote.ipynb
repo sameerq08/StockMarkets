{
 "cells": [
  {
   "cell_type": "code",
   "execution_count": 2,
   "id": "437913e9",
   "metadata": {},
   "outputs": [],
   "source": [
    "import pandas as pd\n",
    "import numpy as np\n",
    "import os\n",
    "import matplotlib.pyplot as plt\n",
    "import time\n",
    "plt.style.use(style='seaborn')\n",
    "import nsepy\n",
    "import logging\n",
    "import datetime\n",
    "logging.basicConfig(level=logging.DEBUG)\n",
    "import pprint\n",
    "import concurrent.futures"
   ]
  },
  {
   "cell_type": "code",
   "execution_count": 4,
   "id": "174b424c",
   "metadata": {},
   "outputs": [],
   "source": [
    "symbol = ['tcs']"
   ]
  },
  {
   "cell_type": "code",
   "execution_count": 3,
   "id": "34bd0a0c",
   "metadata": {},
   "outputs": [],
   "source": [
    "symbols = ['reliance','tatamotors']"
   ]
  },
  {
   "cell_type": "code",
   "execution_count": 13,
   "id": "7c2ecab6",
   "metadata": {},
   "outputs": [],
   "source": [
    "def data(symbols):\n",
    "    data_nse = nsepy.get_quote(symbols)[\"data\"][0]\n",
    "    return {symbols.upper(): {\"Open\":float(data_nse[\"open\"].replace(\",\", \"\")),\n",
    "             \"High\":float(data_nse[\"dayHigh\"].replace(\",\", \"\")),\n",
    "              \"Low\":float(data_nse[\"dayLow\"].replace(\",\", \"\")),\n",
    "              \"Close\":float(data_nse[\"closePrice\"].replace(\",\", \"\")),\n",
    "              \"AvgPrice\":float(data_nse[\"averagePrice\"].replace(\",\", \"\")),\n",
    "              \"Volume\":float(data_nse[\"totalTradedVolume\"].replace(\",\", \"\"))}  \n",
    "           }\n"
   ]
  },
  {
   "cell_type": "code",
   "execution_count": 14,
   "id": "c83dcd14",
   "metadata": {},
   "outputs": [],
   "source": [
    "def get_multiple_stock_data(symbol_list):\n",
    "    multiple_stocks = {}\n",
    "    with concurrent.futures.ThreadPoolExecutor() as executor:\n",
    "        results = executor.map(data, symbol_list)\n",
    "        for i in results:\n",
    "            for k, v in i.items():\n",
    "                multiple_stocks[k] = v\n",
    "    return multiple_stocks   "
   ]
  },
  {
   "cell_type": "code",
   "execution_count": 15,
   "id": "5907bab7",
   "metadata": {},
   "outputs": [
    {
     "name": "stderr",
     "output_type": "stream",
     "text": [
      "DEBUG:urllib3.connectionpool:https://www1.nseindia.com:443 \"GET /live_market/dynaContent/live_watch/get_quote/GetQuote.jsp?symbol=reliance&series=EQ HTTP/1.1\" 200 13933\n",
      "DEBUG:urllib3.connectionpool:https://www1.nseindia.com:443 \"GET /live_market/dynaContent/live_watch/get_quote/GetQuote.jsp?symbol=tatamotors&series=EQ HTTP/1.1\" 200 13932\n"
     ]
    }
   ],
   "source": [
    "stocks_data = get_multiple_stock_data(symbols)\n"
   ]
  },
  {
   "cell_type": "code",
   "execution_count": 16,
   "id": "e42080fb",
   "metadata": {},
   "outputs": [
    {
     "name": "stdout",
     "output_type": "stream",
     "text": [
      "{'RELIANCE': {'AvgPrice': 2505.88,\n",
      "              'Close': 2521.1,\n",
      "              'High': 2524.95,\n",
      "              'Low': 2465.0,\n",
      "              'Open': 2471.3,\n",
      "              'Volume': 6830402.0},\n",
      " 'TATAMOTORS': {'AvgPrice': 507.75,\n",
      "                'Close': 507.25,\n",
      "                'High': 511.85,\n",
      "                'Low': 503.5,\n",
      "                'Open': 505.85,\n",
      "                'Volume': 16255334.0}}\n"
     ]
    }
   ],
   "source": [
    "pprint.pprint(stocks_data)"
   ]
  },
  {
   "cell_type": "code",
   "execution_count": 17,
   "id": "f82a7656",
   "metadata": {},
   "outputs": [],
   "source": [
    "df = pd.DataFrame(stocks_data)"
   ]
  },
  {
   "cell_type": "code",
   "execution_count": 18,
   "id": "4831f6eb",
   "metadata": {},
   "outputs": [
    {
     "data": {
      "text/html": [
       "<div>\n",
       "<style scoped>\n",
       "    .dataframe tbody tr th:only-of-type {\n",
       "        vertical-align: middle;\n",
       "    }\n",
       "\n",
       "    .dataframe tbody tr th {\n",
       "        vertical-align: top;\n",
       "    }\n",
       "\n",
       "    .dataframe thead th {\n",
       "        text-align: right;\n",
       "    }\n",
       "</style>\n",
       "<table border=\"1\" class=\"dataframe\">\n",
       "  <thead>\n",
       "    <tr style=\"text-align: right;\">\n",
       "      <th></th>\n",
       "      <th>RELIANCE</th>\n",
       "      <th>TATAMOTORS</th>\n",
       "    </tr>\n",
       "  </thead>\n",
       "  <tbody>\n",
       "    <tr>\n",
       "      <th>Open</th>\n",
       "      <td>2471.30</td>\n",
       "      <td>505.85</td>\n",
       "    </tr>\n",
       "    <tr>\n",
       "      <th>High</th>\n",
       "      <td>2524.95</td>\n",
       "      <td>511.85</td>\n",
       "    </tr>\n",
       "    <tr>\n",
       "      <th>Low</th>\n",
       "      <td>2465.00</td>\n",
       "      <td>503.50</td>\n",
       "    </tr>\n",
       "    <tr>\n",
       "      <th>Close</th>\n",
       "      <td>2521.10</td>\n",
       "      <td>507.25</td>\n",
       "    </tr>\n",
       "    <tr>\n",
       "      <th>AvgPrice</th>\n",
       "      <td>2505.88</td>\n",
       "      <td>507.75</td>\n",
       "    </tr>\n",
       "    <tr>\n",
       "      <th>Volume</th>\n",
       "      <td>6830402.00</td>\n",
       "      <td>16255334.00</td>\n",
       "    </tr>\n",
       "  </tbody>\n",
       "</table>\n",
       "</div>"
      ],
      "text/plain": [
       "            RELIANCE   TATAMOTORS\n",
       "Open         2471.30       505.85\n",
       "High         2524.95       511.85\n",
       "Low          2465.00       503.50\n",
       "Close        2521.10       507.25\n",
       "AvgPrice     2505.88       507.75\n",
       "Volume    6830402.00  16255334.00"
      ]
     },
     "execution_count": 18,
     "metadata": {},
     "output_type": "execute_result"
    }
   ],
   "source": [
    "df"
   ]
  },
  {
   "cell_type": "code",
   "execution_count": 19,
   "id": "93540e16",
   "metadata": {},
   "outputs": [],
   "source": [
    "df = df.transpose"
   ]
  },
  {
   "cell_type": "code",
   "execution_count": 24,
   "id": "a05bea13",
   "metadata": {},
   "outputs": [
    {
     "data": {
      "text/plain": [
       "<bound method DataFrame.transpose of             RELIANCE   TATAMOTORS\n",
       "Open         2471.30       505.85\n",
       "High         2524.95       511.85\n",
       "Low          2465.00       503.50\n",
       "Close        2521.10       507.25\n",
       "AvgPrice     2505.88       507.75\n",
       "Volume    6830402.00  16255334.00>"
      ]
     },
     "execution_count": 24,
     "metadata": {},
     "output_type": "execute_result"
    }
   ],
   "source": [
    "df"
   ]
  },
  {
   "cell_type": "code",
   "execution_count": null,
   "id": "92154c81",
   "metadata": {},
   "outputs": [
    {
     "name": "stderr",
     "output_type": "stream",
     "text": [
      "DEBUG:urllib3.connectionpool:Resetting dropped connection: www1.nseindia.com\n",
      "DEBUG:urllib3.connectionpool:Resetting dropped connection: www1.nseindia.com\n",
      "DEBUG:urllib3.connectionpool:https://www1.nseindia.com:443 \"GET /live_market/dynaContent/live_watch/get_quote/GetQuote.jsp?symbol=reliance&series=EQ HTTP/1.1\" 200 13933\n",
      "DEBUG:urllib3.connectionpool:https://www1.nseindia.com:443 \"GET /live_market/dynaContent/live_watch/get_quote/GetQuote.jsp?symbol=tatamotors&series=EQ HTTP/1.1\" 200 13932\n"
     ]
    },
    {
     "name": "stdout",
     "output_type": "stream",
     "text": [
      "{'RELIANCE': {'Open': 2471.3, 'High': 2524.95, 'Low': 2465.0, 'Close': 2521.1, 'AvgPrice': 2505.88, 'Volume': 6830402.0}, 'TATAMOTORS': {'Open': 505.85, 'High': 511.85, 'Low': 503.5, 'Close': 507.25, 'AvgPrice': 507.75, 'Volume': 16255334.0}}\n"
     ]
    },
    {
     "name": "stderr",
     "output_type": "stream",
     "text": [
      "DEBUG:urllib3.connectionpool:https://www1.nseindia.com:443 \"GET /live_market/dynaContent/live_watch/get_quote/GetQuote.jsp?symbol=tatamotors&series=EQ HTTP/1.1\" 200 13932\n",
      "DEBUG:urllib3.connectionpool:https://www1.nseindia.com:443 \"GET /live_market/dynaContent/live_watch/get_quote/GetQuote.jsp?symbol=reliance&series=EQ HTTP/1.1\" 200 13933\n"
     ]
    },
    {
     "name": "stdout",
     "output_type": "stream",
     "text": [
      "{'RELIANCE': {'Open': 2471.3, 'High': 2524.95, 'Low': 2465.0, 'Close': 2521.1, 'AvgPrice': 2505.88, 'Volume': 6830402.0}, 'TATAMOTORS': {'Open': 505.85, 'High': 511.85, 'Low': 503.5, 'Close': 507.25, 'AvgPrice': 507.75, 'Volume': 16255334.0}}\n"
     ]
    },
    {
     "name": "stderr",
     "output_type": "stream",
     "text": [
      "DEBUG:urllib3.connectionpool:https://www1.nseindia.com:443 \"GET /live_market/dynaContent/live_watch/get_quote/GetQuote.jsp?symbol=tatamotors&series=EQ HTTP/1.1\" 200 13932\n",
      "DEBUG:urllib3.connectionpool:https://www1.nseindia.com:443 \"GET /live_market/dynaContent/live_watch/get_quote/GetQuote.jsp?symbol=reliance&series=EQ HTTP/1.1\" 200 13933\n"
     ]
    },
    {
     "name": "stdout",
     "output_type": "stream",
     "text": [
      "{'RELIANCE': {'Open': 2471.3, 'High': 2524.95, 'Low': 2465.0, 'Close': 2521.1, 'AvgPrice': 2505.88, 'Volume': 6830402.0}, 'TATAMOTORS': {'Open': 505.85, 'High': 511.85, 'Low': 503.5, 'Close': 507.25, 'AvgPrice': 507.75, 'Volume': 16255334.0}}\n"
     ]
    },
    {
     "name": "stderr",
     "output_type": "stream",
     "text": [
      "DEBUG:urllib3.connectionpool:https://www1.nseindia.com:443 \"GET /live_market/dynaContent/live_watch/get_quote/GetQuote.jsp?symbol=reliance&series=EQ HTTP/1.1\" 200 13933\n",
      "DEBUG:urllib3.connectionpool:https://www1.nseindia.com:443 \"GET /live_market/dynaContent/live_watch/get_quote/GetQuote.jsp?symbol=tatamotors&series=EQ HTTP/1.1\" 200 13932\n"
     ]
    },
    {
     "name": "stdout",
     "output_type": "stream",
     "text": [
      "{'RELIANCE': {'Open': 2471.3, 'High': 2524.95, 'Low': 2465.0, 'Close': 2521.1, 'AvgPrice': 2505.88, 'Volume': 6830402.0}, 'TATAMOTORS': {'Open': 505.85, 'High': 511.85, 'Low': 503.5, 'Close': 507.25, 'AvgPrice': 507.75, 'Volume': 16255334.0}}\n"
     ]
    },
    {
     "name": "stderr",
     "output_type": "stream",
     "text": [
      "DEBUG:urllib3.connectionpool:https://www1.nseindia.com:443 \"GET /live_market/dynaContent/live_watch/get_quote/GetQuote.jsp?symbol=reliance&series=EQ HTTP/1.1\" 200 13933\n",
      "DEBUG:urllib3.connectionpool:https://www1.nseindia.com:443 \"GET /live_market/dynaContent/live_watch/get_quote/GetQuote.jsp?symbol=tatamotors&series=EQ HTTP/1.1\" 200 13932\n"
     ]
    },
    {
     "name": "stdout",
     "output_type": "stream",
     "text": [
      "{'RELIANCE': {'Open': 2471.3, 'High': 2524.95, 'Low': 2465.0, 'Close': 2521.1, 'AvgPrice': 2505.88, 'Volume': 6830402.0}, 'TATAMOTORS': {'Open': 505.85, 'High': 511.85, 'Low': 503.5, 'Close': 507.25, 'AvgPrice': 507.75, 'Volume': 16255334.0}}\n"
     ]
    },
    {
     "name": "stderr",
     "output_type": "stream",
     "text": [
      "DEBUG:urllib3.connectionpool:https://www1.nseindia.com:443 \"GET /live_market/dynaContent/live_watch/get_quote/GetQuote.jsp?symbol=tatamotors&series=EQ HTTP/1.1\" 200 13932\n",
      "DEBUG:urllib3.connectionpool:https://www1.nseindia.com:443 \"GET /live_market/dynaContent/live_watch/get_quote/GetQuote.jsp?symbol=reliance&series=EQ HTTP/1.1\" 200 13933\n"
     ]
    },
    {
     "name": "stdout",
     "output_type": "stream",
     "text": [
      "{'RELIANCE': {'Open': 2471.3, 'High': 2524.95, 'Low': 2465.0, 'Close': 2521.1, 'AvgPrice': 2505.88, 'Volume': 6830402.0}, 'TATAMOTORS': {'Open': 505.85, 'High': 511.85, 'Low': 503.5, 'Close': 507.25, 'AvgPrice': 507.75, 'Volume': 16255334.0}}\n"
     ]
    },
    {
     "name": "stderr",
     "output_type": "stream",
     "text": [
      "DEBUG:urllib3.connectionpool:https://www1.nseindia.com:443 \"GET /live_market/dynaContent/live_watch/get_quote/GetQuote.jsp?symbol=tatamotors&series=EQ HTTP/1.1\" 200 13932\n",
      "DEBUG:urllib3.connectionpool:https://www1.nseindia.com:443 \"GET /live_market/dynaContent/live_watch/get_quote/GetQuote.jsp?symbol=reliance&series=EQ HTTP/1.1\" 200 13933\n"
     ]
    },
    {
     "name": "stdout",
     "output_type": "stream",
     "text": [
      "{'RELIANCE': {'Open': 2471.3, 'High': 2524.95, 'Low': 2465.0, 'Close': 2521.1, 'AvgPrice': 2505.88, 'Volume': 6830402.0}, 'TATAMOTORS': {'Open': 505.85, 'High': 511.85, 'Low': 503.5, 'Close': 507.25, 'AvgPrice': 507.75, 'Volume': 16255334.0}}\n"
     ]
    },
    {
     "name": "stderr",
     "output_type": "stream",
     "text": [
      "DEBUG:urllib3.connectionpool:https://www1.nseindia.com:443 \"GET /live_market/dynaContent/live_watch/get_quote/GetQuote.jsp?symbol=tatamotors&series=EQ HTTP/1.1\" 200 13932\n",
      "DEBUG:urllib3.connectionpool:https://www1.nseindia.com:443 \"GET /live_market/dynaContent/live_watch/get_quote/GetQuote.jsp?symbol=reliance&series=EQ HTTP/1.1\" 200 13933\n",
      "DEBUG:urllib3.connectionpool:https://www1.nseindia.com:443 \"GET /live_market/dynaContent/live_watch/get_quote/GetQuote.jsp?symbol=reliance&series=EQ HTTP/1.1\" 200 13933\n",
      "DEBUG:urllib3.connectionpool:https://www1.nseindia.com:443 \"GET /live_market/dynaContent/live_watch/get_quote/GetQuote.jsp?symbol=tatamotors&series=EQ HTTP/1.1\" 200 13932\n"
     ]
    },
    {
     "name": "stdout",
     "output_type": "stream",
     "text": [
      "{'RELIANCE': {'Open': 2471.3, 'High': 2524.95, 'Low': 2465.0, 'Close': 2521.1, 'AvgPrice': 2505.88, 'Volume': 6830402.0}, 'TATAMOTORS': {'Open': 505.85, 'High': 511.85, 'Low': 503.5, 'Close': 507.25, 'AvgPrice': 507.75, 'Volume': 16255334.0}}\n"
     ]
    },
    {
     "name": "stderr",
     "output_type": "stream",
     "text": [
      "DEBUG:urllib3.connectionpool:https://www1.nseindia.com:443 \"GET /live_market/dynaContent/live_watch/get_quote/GetQuote.jsp?symbol=tatamotors&series=EQ HTTP/1.1\" 200 13932\n",
      "DEBUG:urllib3.connectionpool:https://www1.nseindia.com:443 \"GET /live_market/dynaContent/live_watch/get_quote/GetQuote.jsp?symbol=reliance&series=EQ HTTP/1.1\" 200 13933\n"
     ]
    },
    {
     "name": "stdout",
     "output_type": "stream",
     "text": [
      "{'RELIANCE': {'Open': 2471.3, 'High': 2524.95, 'Low': 2465.0, 'Close': 2521.1, 'AvgPrice': 2505.88, 'Volume': 6830402.0}, 'TATAMOTORS': {'Open': 505.85, 'High': 511.85, 'Low': 503.5, 'Close': 507.25, 'AvgPrice': 507.75, 'Volume': 16255334.0}}\n",
      "{'RELIANCE': {'Open': 2471.3, 'High': 2524.95, 'Low': 2465.0, 'Close': 2521.1, 'AvgPrice': 2505.88, 'Volume': 6830402.0}, 'TATAMOTORS': {'Open': 505.85, 'High': 511.85, 'Low': 503.5, 'Close': 507.25, 'AvgPrice': 507.75, 'Volume': 16255334.0}}\n"
     ]
    },
    {
     "name": "stderr",
     "output_type": "stream",
     "text": [
      "DEBUG:urllib3.connectionpool:https://www1.nseindia.com:443 \"GET /live_market/dynaContent/live_watch/get_quote/GetQuote.jsp?symbol=tatamotors&series=EQ HTTP/1.1\" 200 13932\n",
      "DEBUG:urllib3.connectionpool:https://www1.nseindia.com:443 \"GET /live_market/dynaContent/live_watch/get_quote/GetQuote.jsp?symbol=reliance&series=EQ HTTP/1.1\" 200 13933\n"
     ]
    },
    {
     "name": "stdout",
     "output_type": "stream",
     "text": [
      "{'RELIANCE': {'Open': 2471.3, 'High': 2524.95, 'Low': 2465.0, 'Close': 2521.1, 'AvgPrice': 2505.88, 'Volume': 6830402.0}, 'TATAMOTORS': {'Open': 505.85, 'High': 511.85, 'Low': 503.5, 'Close': 507.25, 'AvgPrice': 507.75, 'Volume': 16255334.0}}\n"
     ]
    },
    {
     "name": "stderr",
     "output_type": "stream",
     "text": [
      "DEBUG:urllib3.connectionpool:https://www1.nseindia.com:443 \"GET /live_market/dynaContent/live_watch/get_quote/GetQuote.jsp?symbol=reliance&series=EQ HTTP/1.1\" 200 13933\n",
      "DEBUG:urllib3.connectionpool:https://www1.nseindia.com:443 \"GET /live_market/dynaContent/live_watch/get_quote/GetQuote.jsp?symbol=tatamotors&series=EQ HTTP/1.1\" 200 13932\n",
      "DEBUG:urllib3.connectionpool:https://www1.nseindia.com:443 \"GET /live_market/dynaContent/live_watch/get_quote/GetQuote.jsp?symbol=reliance&series=EQ HTTP/1.1\" 200 13933\n",
      "DEBUG:urllib3.connectionpool:https://www1.nseindia.com:443 \"GET /live_market/dynaContent/live_watch/get_quote/GetQuote.jsp?symbol=tatamotors&series=EQ HTTP/1.1\" 200 13932\n"
     ]
    },
    {
     "name": "stdout",
     "output_type": "stream",
     "text": [
      "{'RELIANCE': {'Open': 2471.3, 'High': 2524.95, 'Low': 2465.0, 'Close': 2521.1, 'AvgPrice': 2505.88, 'Volume': 6830402.0}, 'TATAMOTORS': {'Open': 505.85, 'High': 511.85, 'Low': 503.5, 'Close': 507.25, 'AvgPrice': 507.75, 'Volume': 16255334.0}}\n",
      "{'RELIANCE': {'Open': 2471.3, 'High': 2524.95, 'Low': 2465.0, 'Close': 2521.1, 'AvgPrice': 2505.88, 'Volume': 6830402.0}, 'TATAMOTORS': {'Open': 505.85, 'High': 511.85, 'Low': 503.5, 'Close': 507.25, 'AvgPrice': 507.75, 'Volume': 16255334.0}}\n"
     ]
    },
    {
     "name": "stderr",
     "output_type": "stream",
     "text": [
      "DEBUG:urllib3.connectionpool:https://www1.nseindia.com:443 \"GET /live_market/dynaContent/live_watch/get_quote/GetQuote.jsp?symbol=reliance&series=EQ HTTP/1.1\" 200 13933\n",
      "DEBUG:urllib3.connectionpool:https://www1.nseindia.com:443 \"GET /live_market/dynaContent/live_watch/get_quote/GetQuote.jsp?symbol=tatamotors&series=EQ HTTP/1.1\" 200 13932\n"
     ]
    },
    {
     "name": "stdout",
     "output_type": "stream",
     "text": [
      "{'RELIANCE': {'Open': 2471.3, 'High': 2524.95, 'Low': 2465.0, 'Close': 2521.1, 'AvgPrice': 2505.88, 'Volume': 6830402.0}, 'TATAMOTORS': {'Open': 505.85, 'High': 511.85, 'Low': 503.5, 'Close': 507.25, 'AvgPrice': 507.75, 'Volume': 16255334.0}}\n"
     ]
    },
    {
     "name": "stderr",
     "output_type": "stream",
     "text": [
      "DEBUG:urllib3.connectionpool:https://www1.nseindia.com:443 \"GET /live_market/dynaContent/live_watch/get_quote/GetQuote.jsp?symbol=reliance&series=EQ HTTP/1.1\" 200 13933\n",
      "DEBUG:urllib3.connectionpool:https://www1.nseindia.com:443 \"GET /live_market/dynaContent/live_watch/get_quote/GetQuote.jsp?symbol=tatamotors&series=EQ HTTP/1.1\" 200 13932\n"
     ]
    },
    {
     "name": "stdout",
     "output_type": "stream",
     "text": [
      "{'RELIANCE': {'Open': 2471.3, 'High': 2524.95, 'Low': 2465.0, 'Close': 2521.1, 'AvgPrice': 2505.88, 'Volume': 6830402.0}, 'TATAMOTORS': {'Open': 505.85, 'High': 511.85, 'Low': 503.5, 'Close': 507.25, 'AvgPrice': 507.75, 'Volume': 16255334.0}}\n"
     ]
    },
    {
     "name": "stderr",
     "output_type": "stream",
     "text": [
      "DEBUG:urllib3.connectionpool:https://www1.nseindia.com:443 \"GET /live_market/dynaContent/live_watch/get_quote/GetQuote.jsp?symbol=tatamotors&series=EQ HTTP/1.1\" 200 13932\n",
      "DEBUG:urllib3.connectionpool:https://www1.nseindia.com:443 \"GET /live_market/dynaContent/live_watch/get_quote/GetQuote.jsp?symbol=reliance&series=EQ HTTP/1.1\" 200 13933\n"
     ]
    },
    {
     "name": "stdout",
     "output_type": "stream",
     "text": [
      "{'RELIANCE': {'Open': 2471.3, 'High': 2524.95, 'Low': 2465.0, 'Close': 2521.1, 'AvgPrice': 2505.88, 'Volume': 6830402.0}, 'TATAMOTORS': {'Open': 505.85, 'High': 511.85, 'Low': 503.5, 'Close': 507.25, 'AvgPrice': 507.75, 'Volume': 16255334.0}}\n"
     ]
    },
    {
     "name": "stderr",
     "output_type": "stream",
     "text": [
      "DEBUG:urllib3.connectionpool:https://www1.nseindia.com:443 \"GET /live_market/dynaContent/live_watch/get_quote/GetQuote.jsp?symbol=tatamotors&series=EQ HTTP/1.1\" 200 13932\n",
      "DEBUG:urllib3.connectionpool:https://www1.nseindia.com:443 \"GET /live_market/dynaContent/live_watch/get_quote/GetQuote.jsp?symbol=reliance&series=EQ HTTP/1.1\" 200 13933\n",
      "DEBUG:urllib3.connectionpool:https://www1.nseindia.com:443 \"GET /live_market/dynaContent/live_watch/get_quote/GetQuote.jsp?symbol=tatamotors&series=EQ HTTP/1.1\" 200 13932\n"
     ]
    },
    {
     "name": "stdout",
     "output_type": "stream",
     "text": [
      "{'RELIANCE': {'Open': 2471.3, 'High': 2524.95, 'Low': 2465.0, 'Close': 2521.1, 'AvgPrice': 2505.88, 'Volume': 6830402.0}, 'TATAMOTORS': {'Open': 505.85, 'High': 511.85, 'Low': 503.5, 'Close': 507.25, 'AvgPrice': 507.75, 'Volume': 16255334.0}}\n"
     ]
    },
    {
     "name": "stderr",
     "output_type": "stream",
     "text": [
      "DEBUG:urllib3.connectionpool:https://www1.nseindia.com:443 \"GET /live_market/dynaContent/live_watch/get_quote/GetQuote.jsp?symbol=reliance&series=EQ HTTP/1.1\" 200 13933\n"
     ]
    },
    {
     "name": "stdout",
     "output_type": "stream",
     "text": [
      "{'RELIANCE': {'Open': 2471.3, 'High': 2524.95, 'Low': 2465.0, 'Close': 2521.1, 'AvgPrice': 2505.88, 'Volume': 6830402.0}, 'TATAMOTORS': {'Open': 505.85, 'High': 511.85, 'Low': 503.5, 'Close': 507.25, 'AvgPrice': 507.75, 'Volume': 16255334.0}}\n"
     ]
    },
    {
     "name": "stderr",
     "output_type": "stream",
     "text": [
      "DEBUG:urllib3.connectionpool:https://www1.nseindia.com:443 \"GET /live_market/dynaContent/live_watch/get_quote/GetQuote.jsp?symbol=reliance&series=EQ HTTP/1.1\" 200 13933\n",
      "DEBUG:urllib3.connectionpool:https://www1.nseindia.com:443 \"GET /live_market/dynaContent/live_watch/get_quote/GetQuote.jsp?symbol=tatamotors&series=EQ HTTP/1.1\" 200 13932\n"
     ]
    },
    {
     "name": "stdout",
     "output_type": "stream",
     "text": [
      "{'RELIANCE': {'Open': 2471.3, 'High': 2524.95, 'Low': 2465.0, 'Close': 2521.1, 'AvgPrice': 2505.88, 'Volume': 6830402.0}, 'TATAMOTORS': {'Open': 505.85, 'High': 511.85, 'Low': 503.5, 'Close': 507.25, 'AvgPrice': 507.75, 'Volume': 16255334.0}}\n"
     ]
    },
    {
     "name": "stderr",
     "output_type": "stream",
     "text": [
      "DEBUG:urllib3.connectionpool:https://www1.nseindia.com:443 \"GET /live_market/dynaContent/live_watch/get_quote/GetQuote.jsp?symbol=tatamotors&series=EQ HTTP/1.1\" 200 13932\n",
      "DEBUG:urllib3.connectionpool:https://www1.nseindia.com:443 \"GET /live_market/dynaContent/live_watch/get_quote/GetQuote.jsp?symbol=reliance&series=EQ HTTP/1.1\" 200 13933\n",
      "DEBUG:urllib3.connectionpool:https://www1.nseindia.com:443 \"GET /live_market/dynaContent/live_watch/get_quote/GetQuote.jsp?symbol=tatamotors&series=EQ HTTP/1.1\" 200 13932\n",
      "DEBUG:urllib3.connectionpool:https://www1.nseindia.com:443 \"GET /live_market/dynaContent/live_watch/get_quote/GetQuote.jsp?symbol=reliance&series=EQ HTTP/1.1\" 200 13933\n"
     ]
    },
    {
     "name": "stdout",
     "output_type": "stream",
     "text": [
      "{'RELIANCE': {'Open': 2471.3, 'High': 2524.95, 'Low': 2465.0, 'Close': 2521.1, 'AvgPrice': 2505.88, 'Volume': 6830402.0}, 'TATAMOTORS': {'Open': 505.85, 'High': 511.85, 'Low': 503.5, 'Close': 507.25, 'AvgPrice': 507.75, 'Volume': 16255334.0}}\n",
      "{'RELIANCE': {'Open': 2471.3, 'High': 2524.95, 'Low': 2465.0, 'Close': 2521.1, 'AvgPrice': 2505.88, 'Volume': 6830402.0}, 'TATAMOTORS': {'Open': 505.85, 'High': 511.85, 'Low': 503.5, 'Close': 507.25, 'AvgPrice': 507.75, 'Volume': 16255334.0}}\n"
     ]
    },
    {
     "name": "stderr",
     "output_type": "stream",
     "text": [
      "DEBUG:urllib3.connectionpool:https://www1.nseindia.com:443 \"GET /live_market/dynaContent/live_watch/get_quote/GetQuote.jsp?symbol=tatamotors&series=EQ HTTP/1.1\" 200 13932\n",
      "DEBUG:urllib3.connectionpool:https://www1.nseindia.com:443 \"GET /live_market/dynaContent/live_watch/get_quote/GetQuote.jsp?symbol=reliance&series=EQ HTTP/1.1\" 200 13933\n"
     ]
    },
    {
     "name": "stdout",
     "output_type": "stream",
     "text": [
      "{'RELIANCE': {'Open': 2471.3, 'High': 2524.95, 'Low': 2465.0, 'Close': 2521.1, 'AvgPrice': 2505.88, 'Volume': 6830402.0}, 'TATAMOTORS': {'Open': 505.85, 'High': 511.85, 'Low': 503.5, 'Close': 507.25, 'AvgPrice': 507.75, 'Volume': 16255334.0}}\n"
     ]
    },
    {
     "name": "stderr",
     "output_type": "stream",
     "text": [
      "DEBUG:urllib3.connectionpool:https://www1.nseindia.com:443 \"GET /live_market/dynaContent/live_watch/get_quote/GetQuote.jsp?symbol=reliance&series=EQ HTTP/1.1\" 200 13933\n",
      "DEBUG:urllib3.connectionpool:https://www1.nseindia.com:443 \"GET /live_market/dynaContent/live_watch/get_quote/GetQuote.jsp?symbol=tatamotors&series=EQ HTTP/1.1\" 200 13932\n",
      "DEBUG:urllib3.connectionpool:https://www1.nseindia.com:443 \"GET /live_market/dynaContent/live_watch/get_quote/GetQuote.jsp?symbol=tatamotors&series=EQ HTTP/1.1\" 200 13932\n"
     ]
    },
    {
     "name": "stdout",
     "output_type": "stream",
     "text": [
      "{'RELIANCE': {'Open': 2471.3, 'High': 2524.95, 'Low': 2465.0, 'Close': 2521.1, 'AvgPrice': 2505.88, 'Volume': 6830402.0}, 'TATAMOTORS': {'Open': 505.85, 'High': 511.85, 'Low': 503.5, 'Close': 507.25, 'AvgPrice': 507.75, 'Volume': 16255334.0}}\n"
     ]
    },
    {
     "name": "stderr",
     "output_type": "stream",
     "text": [
      "DEBUG:urllib3.connectionpool:https://www1.nseindia.com:443 \"GET /live_market/dynaContent/live_watch/get_quote/GetQuote.jsp?symbol=reliance&series=EQ HTTP/1.1\" 200 13933\n"
     ]
    },
    {
     "name": "stdout",
     "output_type": "stream",
     "text": [
      "{'RELIANCE': {'Open': 2471.3, 'High': 2524.95, 'Low': 2465.0, 'Close': 2521.1, 'AvgPrice': 2505.88, 'Volume': 6830402.0}, 'TATAMOTORS': {'Open': 505.85, 'High': 511.85, 'Low': 503.5, 'Close': 507.25, 'AvgPrice': 507.75, 'Volume': 16255334.0}}\n"
     ]
    },
    {
     "name": "stderr",
     "output_type": "stream",
     "text": [
      "DEBUG:urllib3.connectionpool:https://www1.nseindia.com:443 \"GET /live_market/dynaContent/live_watch/get_quote/GetQuote.jsp?symbol=tatamotors&series=EQ HTTP/1.1\" 200 13932\n",
      "DEBUG:urllib3.connectionpool:https://www1.nseindia.com:443 \"GET /live_market/dynaContent/live_watch/get_quote/GetQuote.jsp?symbol=reliance&series=EQ HTTP/1.1\" 200 13933\n",
      "DEBUG:urllib3.connectionpool:https://www1.nseindia.com:443 \"GET /live_market/dynaContent/live_watch/get_quote/GetQuote.jsp?symbol=tatamotors&series=EQ HTTP/1.1\" 200 13932\n"
     ]
    },
    {
     "name": "stdout",
     "output_type": "stream",
     "text": [
      "{'RELIANCE': {'Open': 2471.3, 'High': 2524.95, 'Low': 2465.0, 'Close': 2521.1, 'AvgPrice': 2505.88, 'Volume': 6830402.0}, 'TATAMOTORS': {'Open': 505.85, 'High': 511.85, 'Low': 503.5, 'Close': 507.25, 'AvgPrice': 507.75, 'Volume': 16255334.0}}\n"
     ]
    },
    {
     "name": "stderr",
     "output_type": "stream",
     "text": [
      "DEBUG:urllib3.connectionpool:https://www1.nseindia.com:443 \"GET /live_market/dynaContent/live_watch/get_quote/GetQuote.jsp?symbol=reliance&series=EQ HTTP/1.1\" 200 13933\n"
     ]
    },
    {
     "name": "stdout",
     "output_type": "stream",
     "text": [
      "{'RELIANCE': {'Open': 2471.3, 'High': 2524.95, 'Low': 2465.0, 'Close': 2521.1, 'AvgPrice': 2505.88, 'Volume': 6830402.0}, 'TATAMOTORS': {'Open': 505.85, 'High': 511.85, 'Low': 503.5, 'Close': 507.25, 'AvgPrice': 507.75, 'Volume': 16255334.0}}\n"
     ]
    }
   ],
   "source": [
    "# while loop will continue fetch the new data \n",
    "while True:\n",
    "    stocks_data = get_multiple_stock_data(symbols)\n",
    "    print(stocks_data)"
   ]
  },
  {
   "cell_type": "code",
   "execution_count": null,
   "id": "4fdf822e",
   "metadata": {},
   "outputs": [],
   "source": []
  }
 ],
 "metadata": {
  "kernelspec": {
   "display_name": "Python 3 (ipykernel)",
   "language": "python",
   "name": "python3"
  },
  "language_info": {
   "codemirror_mode": {
    "name": "ipython",
    "version": 3
   },
   "file_extension": ".py",
   "mimetype": "text/x-python",
   "name": "python",
   "nbconvert_exporter": "python",
   "pygments_lexer": "ipython3",
   "version": "3.9.9"
  }
 },
 "nbformat": 4,
 "nbformat_minor": 5
}
